{
 "cells": [
  {
   "cell_type": "markdown",
   "metadata": {},
   "source": [
    "# C問題"
   ]
  },
  {
   "cell_type": "code",
   "execution_count": null,
   "metadata": {},
   "outputs": [],
   "source": [
    "N = int(input())\n",
    "A = list(map(int,input().split()))\n",
    "ans = [ i+1 for i in range(len(A))]\n",
    "\n",
    "for i in  range(len(A)):\n",
    "    i_person = i+1\n",
    "    forward_person = A[i]\n",
    "    if forward_person == -1: forward_person = 0\n",
    "    print(i)\n",
    "    print(ans)\n",
    "    tmp = ans[forward_person]\n",
    "    ans[forward_person] = i_person\n",
    "    ans[i] = tmp\n",
    "    print(ans)\n",
    "    print()\n",
    "print(ans)\n"
   ]
  },
  {
   "cell_type": "code",
   "execution_count": null,
   "metadata": {},
   "outputs": [],
   "source": [
    "N = int(input())\n",
    "A = list(map(int,input().split()))\n",
    "ans = []\n",
    "for index,ai in enumerate(A):\n",
    "    if ai == -1: ans.insert(0,index+1)\n",
    "    else:\n",
    "        if ai not in ans:\n",
    "            if index+1 in ans:\n",
    "              ans.insert(ans.index(index+1),ai)\n",
    "            else:\n",
    "              ans.append(ai)\n",
    "            if index+1 not in ans:a\n",
    "                ans.insert(ans.index(ai)+1,index+1)\n",
    "        else:\n",
    "            if index+1 not in ans:\n",
    "                ans.insert(ans.index(ai)+1,index+1)\n",
    "print(ans)"
   ]
  },
  {
   "cell_type": "markdown",
   "metadata": {},
   "source": [
    "# Answer (直後の人を記録，先頭から順に出力していけば良い)"
   ]
  },
  {
   "cell_type": "code",
   "execution_count": null,
   "metadata": {},
   "outputs": [],
   "source": [
    "N = int(input())\n",
    "B = [ -1 for _ in range(N)]\n",
    "A = list(map(int,input().split()))\n",
    "front = 0\n",
    "for index,a in enumerate(A):\n",
    "  if a == -1 : front = index\n",
    "  else:\n",
    "    B[a-1] = index\n",
    "while(front >= 0) :\n",
    "  print(front+1,end=\" \")\n",
    "  front = B[front]\n",
    "  "
   ]
  },
  {
   "cell_type": "markdown",
   "metadata": {},
   "source": [
    "# D問題"
   ]
  },
  {
   "cell_type": "code",
   "execution_count": 1,
   "metadata": {},
   "outputs": [
    {
     "ename": "ValueError",
     "evalue": "invalid literal for int() with base 10: 'x..'",
     "output_type": "error",
     "traceback": [
      "\u001b[0;31m---------------------------------------------------------------------------\u001b[0m",
      "\u001b[0;31mValueError\u001b[0m                                Traceback (most recent call last)",
      "Cell \u001b[0;32mIn[1], line 1\u001b[0m\n\u001b[0;32m----> 1\u001b[0m H,W,K \u001b[38;5;241m=\u001b[39m \u001b[38;5;28mmap\u001b[39m(\u001b[38;5;28mint\u001b[39m,\u001b[38;5;28minput\u001b[39m()\u001b[38;5;241m.\u001b[39msplit())\n\u001b[1;32m      3\u001b[0m l \u001b[38;5;241m=\u001b[39m \u001b[38;5;28mlist\u001b[39m( \u001b[38;5;28minput\u001b[39m()\u001b[38;5;241m.\u001b[39msplit() \u001b[38;5;28;01mfor\u001b[39;00m _ \u001b[38;5;129;01min\u001b[39;00m \u001b[38;5;28mrange\u001b[39m(H))\n\u001b[1;32m      4\u001b[0m \u001b[38;5;28mprint\u001b[39m(l)\n",
      "\u001b[0;31mValueError\u001b[0m: invalid literal for int() with base 10: 'x..'"
     ]
    }
   ],
   "source": [
    "import  numpy as np\n",
    "H,W,K = map(int,input().split())\n",
    "\n",
    "l = list( input().split() for _ in range(H))\n",
    "renzoku = 0\n",
    "henkan = 0\n",
    "for line in l:\n",
    "    for chars in line:\n",
    "        renzoku = 0\n",
    "        henkan = 0\n",
    "        for char in chars:\n",
    "            if char == \"o\":\n",
    "                renzoku += 1\n",
    "                continue\n",
    "            elif char == \".\":\n",
    "                renzoku += 1\n",
    "                henkan += 1\n",
    "                if renzoku == K:\n",
    "                    print(henkan)\n",
    "                    exit()\n",
    "            else:\n",
    "                rensoku = 0\n",
    "                henkan = 0\n",
    "l_n = np.array(l)\n",
    "l = list(l_n.T)\n",
    "renzoku = 0\n",
    "henkan = 0\n",
    "for line in l:\n",
    "    for chars in line:\n",
    "        renzoku = 0\n",
    "        henkan = 0\n",
    "        for char in chars:\n",
    "            if char == \"o\":\n",
    "                renzoku += 1\n",
    "                continue\n",
    "            elif char == \".\":\n",
    "                renzoku += 1\n",
    "                henkan += 1\n",
    "                if renzoku == K:\n",
    "                    print(henkan)\n",
    "                    exit()\n",
    "            else:\n",
    "                rensoku = 0\n",
    "                henkan = 0\n",
    "print(\"-1\")\n"
   ]
  },
  {
   "cell_type": "code",
   "execution_count": 2,
   "metadata": {},
   "outputs": [
    {
     "name": "stdout",
     "output_type": "stream",
     "text": [
      "3\n"
     ]
    }
   ],
   "source": [
    "chars = \"....o...oox.\"\n",
    "K = 6\n",
    "ans = 10000000\n",
    "for i in range(len(chars)-K+1):\n",
    "   if  chars[i:i+K] not in \"x\":\n",
    "        c = chars[i:i+K].count(\".\")\n",
    "        ans = min(ans,c)\n",
    "print(ans)\n",
    "chars = \"....o...oox.\"\n",
    "c = chars[3:5]\n",
    "print(c)\n",
    "print(list(c))\n",
    "print(set(c))"
   ]
  },
  {
   "cell_type": "code",
   "execution_count": null,
   "metadata": {},
   "outputs": [],
   "source": [
    "H,W,K = map(int,input().split())\n",
    "S = []\n",
    "for _ in range(H):\n",
    "    S.append(list( \"#\" + input()))\n",
    "\n",
    "b_num = [0 for _ in range(W+1)]\n",
    "ten_num = [0 for _ in range(W+1)]\n",
    "ans = 10000000\n",
    "for i in range(H):\n",
    "    for index,s in enumerate(S[i]):\n",
    "        if s == \"x\":  b_num[index] = b_num[index-1] + 1\n",
    "        if s == \".\":  ten_num[index] = ten_num[index-1] + 1\n",
    "\n",
    "for i in range(1,W-K+1):\n",
    "    tmp_b_num = b_num[i+k] - b_num[i]\n",
    "    tmp_ten_num = ten_num[i+k] - ten_num[i]\n",
    "    if tmp_b_num == 0: # \"x\"がない箇所\n",
    "        ans = min(tmp_ten_num,ans)\n",
    "\n",
    "print(ans)\n",
    "\n",
    "\n"
   ]
  },
  {
   "cell_type": "code",
   "execution_count": null,
   "metadata": {},
   "outputs": [],
   "source": []
  }
 ],
 "metadata": {
  "kernelspec": {
   "display_name": "jupyter_10.9",
   "language": "python",
   "name": "python3"
  },
  "language_info": {
   "codemirror_mode": {
    "name": "ipython",
    "version": 3
   },
   "file_extension": ".py",
   "mimetype": "text/x-python",
   "name": "python",
   "nbconvert_exporter": "python",
   "pygments_lexer": "ipython3",
   "version": "3.10.9"
  }
 },
 "nbformat": 4,
 "nbformat_minor": 2
}
