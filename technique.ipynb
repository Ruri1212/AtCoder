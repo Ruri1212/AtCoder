{
 "cells": [
  {
   "cell_type": "markdown",
   "metadata": {},
   "source": [
    "# 問題の考え方やコードの書き方といったテクニック集"
   ]
  },
  {
   "cell_type": "markdown",
   "metadata": {},
   "source": [
    "### あらかじめ答えの範囲が分かっているなら2分探索\n",
    "#### 典型問題 001問"
   ]
  },
  {
   "cell_type": "code",
   "execution_count": null,
   "metadata": {},
   "outputs": [],
   "source": []
  },
  {
   "cell_type": "markdown",
   "metadata": {},
   "source": [
    "### 配列の区間処理を境界処理に変更 \n",
    "#### ( 2024_0217 / E問題)"
   ]
  },
  {
   "cell_type": "code",
   "execution_count": null,
   "metadata": {},
   "outputs": [],
   "source": [
    "# [x:y]指定した区間の0,1を変更する場合\n",
    "a = [1,0,0,1]\n",
    "# 差に注目したリストを追加 ( 1 if a[i]==a[i+1] else 0)\n",
    "diff = [1,0,1]\n",
    "# こうすることで 元の操作を愚直にする場合の計算量が定数のオーダに変わる\n",
    "\n",
    "# c++ の 順序付き集合 set を使うと早いらしい\n",
    "# vectorと違い，動的に要素を追加する場合はset\n"
   ]
  }
 ],
 "metadata": {
  "language_info": {
   "name": "python"
  }
 },
 "nbformat": 4,
 "nbformat_minor": 2
}
