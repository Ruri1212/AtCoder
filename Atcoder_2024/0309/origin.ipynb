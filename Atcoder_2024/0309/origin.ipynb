{
 "cells": [
  {
   "cell_type": "markdown",
   "metadata": {},
   "source": [
    "#### 必要になりそうな定数等"
   ]
  },
  {
   "cell_type": "code",
   "execution_count": null,
   "metadata": {},
   "outputs": [],
   "source": [
    "s = \" abcdefghijklmnopqrstuvwxyz \""
   ]
  },
  {
   "cell_type": "markdown",
   "metadata": {},
   "source": [
    "#### A問題"
   ]
  },
  {
   "cell_type": "code",
   "execution_count": 4,
   "metadata": {},
   "outputs": [
    {
     "name": "stdout",
     "output_type": "stream",
     "text": [
      "  \n"
     ]
    }
   ],
   "source": [
    "# s = list(input().split(\"|\"))\n",
    "b = \" |spoiler| \"\n",
    "a = list(b.split(\"|\"))\n",
    "\n",
    "\n",
    "print(a[0],end=\"\")\n",
    "print(a[2])"
   ]
  },
  {
   "cell_type": "code",
   "execution_count": null,
   "metadata": {},
   "outputs": [],
   "source": [
    "s = list(input().split(\"|\"))\n",
    "print(s[0],end=\"\")\n",
    "print(s[2])"
   ]
  },
  {
   "cell_type": "markdown",
   "metadata": {},
   "source": [
    "#### B問題"
   ]
  },
  {
   "cell_type": "code",
   "execution_count": null,
   "metadata": {},
   "outputs": [],
   "source": [
    "a = []\n",
    "for _ in range(100):\n",
    "    i = input()\n",
    "    a.append(int(i))\n",
    "for i in a[::-1]:\n",
    "    print(i)"
   ]
  },
  {
   "cell_type": "code",
   "execution_count": null,
   "metadata": {},
   "outputs": [],
   "source": [
    "s = []\n",
    "while True:\n",
    "    try:\n",
    "        a = input()\n",
    "        s.append(int(a))\n",
    "    except EOFError:\n",
    "        break\n",
    "\n",
    "for i in s[::-1]:\n",
    "    print(i)\n"
   ]
  },
  {
   "cell_type": "markdown",
   "metadata": {},
   "source": [
    "#### C問題"
   ]
  },
  {
   "cell_type": "code",
   "execution_count": null,
   "metadata": {},
   "outputs": [],
   "source": [
    "n = int(input())\n",
    "a = list(map(int,input().split()))\n",
    "m = int(input())\n",
    "b = list(map(int,input().split()))\n",
    "l = int(input())\n",
    "c = list(map(int,input().split()))\n",
    "q = int(input())\n",
    "x = list(map(int,input().split()))\n",
    "\n",
    "candi = set([])\n",
    "for i in a:\n",
    "    for j in b:\n",
    "        for k in c:\n",
    "            candi.add(i+j+k) \n",
    "\n",
    "for i in x:\n",
    "    if i in candi:\n",
    "        print(\"Yes\")\n",
    "    else: print(\"No\")\n"
   ]
  },
  {
   "cell_type": "markdown",
   "metadata": {},
   "source": [
    "#### D問題"
   ]
  },
  {
   "cell_type": "code",
   "execution_count": null,
   "metadata": {},
   "outputs": [],
   "source": [
    "t = input()\n",
    "n = int(input())\n",
    "a = []\n",
    "s_list = [ ]\n",
    "\n",
    "for i in range(n):\n",
    "    x,*y = input().split()\n",
    "    a.append(int(x))\n",
    "    s_list.append(y)\n",
    "    s_list[i].append(\"\")\n",
    "\n",
    "ans = -1"
   ]
  },
  {
   "cell_type": "code",
   "execution_count": null,
   "metadata": {},
   "outputs": [],
   "source": [
    "def generate_nested_combinations(lists, current=[], tmp=0):\n",
    "    if not lists:\n",
    "        yield ''.join(map(str, current)), tmp\n",
    "    else:\n",
    "        for item in lists[0]:\n",
    "            print(item)\n",
    "            if item != \"\":\n",
    "                tmp += 1\n",
    "            yield from generate_nested_combinations(lists[1:], current + [item], tmp)\n",
    "\n",
    "# 例の実行\n",
    "s_list = [['1', '2', '3'], ['a', 'b', 'c'], ['', 'y', 'z']]\n",
    "for combination, tmp_value in generate_nested_combinations(s_list):\n",
    "    print(f\"Combination: {combination}, tmp: {tmp_value}\")\n"
   ]
  },
  {
   "cell_type": "code",
   "execution_count": 10,
   "metadata": {},
   "outputs": [
    {
     "name": "stdout",
     "output_type": "stream",
     "text": [
      "1\n",
      "a\n",
      "x\n",
      "1ax\n",
      "y\n",
      "1ay\n",
      "z\n",
      "1az\n",
      "b\n",
      "x\n",
      "1bx\n",
      "y\n",
      "1by\n",
      "z\n",
      "1bz\n",
      "c\n",
      "x\n",
      "1cx\n",
      "y\n",
      "1cy\n",
      "z\n",
      "1cz\n",
      "d\n",
      "x\n",
      "1dx\n",
      "y\n",
      "1dy\n",
      "z\n",
      "1dz\n",
      "2\n",
      "a\n",
      "x\n",
      "2ax\n",
      "y\n",
      "2ay\n",
      "z\n",
      "2az\n",
      "b\n",
      "x\n",
      "2bx\n",
      "y\n",
      "2by\n",
      "z\n",
      "2bz\n",
      "c\n",
      "x\n",
      "2cx\n",
      "y\n",
      "2cy\n",
      "z\n",
      "2cz\n",
      "d\n",
      "x\n",
      "2dx\n",
      "y\n",
      "2dy\n",
      "z\n",
      "2dz\n",
      "3\n",
      "a\n",
      "x\n",
      "3ax\n",
      "y\n",
      "3ay\n",
      "z\n",
      "3az\n",
      "b\n",
      "x\n",
      "3bx\n",
      "y\n",
      "3by\n",
      "z\n",
      "3bz\n",
      "c\n",
      "x\n",
      "3cx\n",
      "y\n",
      "3cy\n",
      "z\n",
      "3cz\n",
      "d\n",
      "x\n",
      "3dx\n",
      "y\n",
      "3dy\n",
      "z\n",
      "3dz\n"
     ]
    }
   ],
   "source": [
    "t = input()\n",
    "n = int(input())\n",
    "a = []\n",
    "s_list = [ ]\n",
    "\n",
    "for i in range(n):\n",
    "    x,*y = input().split()\n",
    "    a.append(int(x))\n",
    "    s_list.append(y)\n",
    "    s_list[i].append(\"\")\n",
    "\n",
    "\n",
    "def generate_nested_combinations(lists, current=[], tmp=0):\n",
    "    if not lists:\n",
    "        yield ''.join(map(str, current)), tmp\n",
    "    else:\n",
    "        for item in lists[0]:\n",
    "            if item != \"\":\n",
    "                tmp += 1\n",
    "            yield from generate_nested_combinations(lists[1:], current + [item], tmp)\n",
    "\n",
    "ans = -1\n",
    "num = 0\n",
    "for combination in generate_nested_combinations(s_list):\n",
    "    comb = combination[0]\n",
    "    num = combination[1]\n",
    "    print(comb,num)\n",
    "    if comb == t:\n",
    "        if ans == -1: ans = num\n",
    "        elif num < ans: ans = num\n",
    "print(ans)"
   ]
  },
  {
   "cell_type": "code",
   "execution_count": null,
   "metadata": {},
   "outputs": [],
   "source": [
    "from itertools import product\n",
    "\n",
    "t = input()\n",
    "n = int(input())\n",
    "a = []\n",
    "s_list = [ ]\n",
    "\n",
    "for i in range(n):\n",
    "    x,*y = input().split()\n",
    "    a.append(int(x))\n",
    "    s_list.append(y)\n",
    "    s_list[i].append(\"\")\n",
    "\n",
    "ans = -1\n",
    "for combination in product(*s_list):\n",
    "    tmp = n\n",
    "    result_list = list((map(str, combination)))\n",
    "    result_str = ''.join(map(str, combination))\n",
    "    if result_str == t:\n",
    "        for i in result_list:\n",
    "            if i == \"\":\n",
    "                tmp -= 1\n",
    "        if ans == -1: ans = tmp\n",
    "        elif tmp < ans: ans = tmp\n",
    "print(ans)\n"
   ]
  },
  {
   "cell_type": "code",
   "execution_count": 15,
   "metadata": {},
   "outputs": [
    {
     "name": "stdout",
     "output_type": "stream",
     "text": [
      "here ['1', 'a', '']\n",
      "1a\n",
      "here ['1', 'b', '']\n",
      "1b\n",
      "here ['1', 'c', '']\n",
      "1c\n",
      "here ['2', 'a', '']\n",
      "2a\n",
      "here ['2', 'b', '']\n",
      "2b\n",
      "here ['2', 'c', '']\n",
      "2c\n",
      "here ['3', 'a', '']\n",
      "3a\n",
      "here ['3', 'b', '']\n",
      "3b\n",
      "here ['3', 'c', '']\n",
      "3c\n"
     ]
    }
   ],
   "source": [
    "from itertools import product\n",
    "\n",
    "s_list = [[1, 2, 3], ['a', 'b', 'c'], ['x', 'y', 'z',\"\"]]\n",
    "\n",
    "# 未知の要素数に対応するためにproductを使用\n",
    "for combination in product(*s_list):\n",
    "    tmp = 1\n",
    "    result = list((map(str, combination)))\n",
    "    for i in result:\n",
    "        if i == \"\":\n",
    "            print(\"here\",result)\n",
    "            print(''.join(map(str, combination)))\n",
    "\n"
   ]
  },
  {
   "cell_type": "code",
   "execution_count": null,
   "metadata": {},
   "outputs": [],
   "source": [
    "t = input()\n",
    "n = int(input())\n",
    "a = []\n",
    "s_list = [ ]\n",
    "\n",
    "for i in range(n):\n",
    "    x,*y = input().split()\n",
    "    a.append(int(x))\n",
    "    s_list.append(y)\n",
    "    s_list[i].append(\"\")\n",
    "\n",
    "\n",
    "for i in range(n):\n",
    "    for j in range(10):\n",
    "\n",
    "\n",
    "\n"
   ]
  }
 ],
 "metadata": {
  "kernelspec": {
   "display_name": "jupyter_10.9",
   "language": "python",
   "name": "python3"
  },
  "language_info": {
   "codemirror_mode": {
    "name": "ipython",
    "version": 3
   },
   "file_extension": ".py",
   "mimetype": "text/x-python",
   "name": "python",
   "nbconvert_exporter": "python",
   "pygments_lexer": "ipython3",
   "version": "3.10.9"
  }
 },
 "nbformat": 4,
 "nbformat_minor": 2
}
