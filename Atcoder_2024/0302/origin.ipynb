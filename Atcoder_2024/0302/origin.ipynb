{
 "cells": [
  {
   "cell_type": "markdown",
   "metadata": {},
   "source": [
    "#### 必要になりそうな定数等"
   ]
  },
  {
   "cell_type": "code",
   "execution_count": null,
   "metadata": {},
   "outputs": [],
   "source": [
    "s = \" abcdefghijklmnopqrstuvwxyz \""
   ]
  },
  {
   "cell_type": "markdown",
   "metadata": {},
   "source": [
    "#### A問題"
   ]
  },
  {
   "cell_type": "code",
   "execution_count": null,
   "metadata": {},
   "outputs": [],
   "source": []
  },
  {
   "cell_type": "markdown",
   "metadata": {},
   "source": [
    "#### B問題"
   ]
  },
  {
   "cell_type": "code",
   "execution_count": null,
   "metadata": {},
   "outputs": [],
   "source": [
    "n = int(input())\n",
    "\n",
    "for _ in range(n):\n",
    "  li = list(map(int,input().split()))\n",
    "  for index,num in enumerate(li):\n",
    "    if num == 1:\n",
    "      print(index+1,end = \" \")\n",
    "  print()\n",
    "      \n",
    "    "
   ]
  },
  {
   "cell_type": "markdown",
   "metadata": {},
   "source": [
    "#### C問題"
   ]
  },
  {
   "cell_type": "code",
   "execution_count": 4,
   "metadata": {},
   "outputs": [
    {
     "name": "stdout",
     "output_type": "stream",
     "text": [
      "51221\n",
      "<class 'str'>\n"
     ]
    }
   ],
   "source": [
    "a = 12215\n",
    "b = str(a)[::-1]\n",
    "print(b)\n",
    "print(type(b))\n"
   ]
  },
  {
   "cell_type": "code",
   "execution_count": null,
   "metadata": {},
   "outputs": [],
   "source": [
    "import math\n",
    "\n",
    "n = int(input())\n",
    "ma = int(math.pow(n,1/3))\n",
    "ans = 0\n",
    "\n",
    "for i in range(1,ma+1):\n",
    "    for j in range(i*i*i,n,i*i*i):\n",
    "        tmp = str(j)[::-1]        \n",
    "        if tmp == str(j) and ans < j:\n",
    "            ans = j\n",
    "print(j)"
   ]
  },
  {
   "cell_type": "code",
   "execution_count": 1,
   "metadata": {},
   "outputs": [
    {
     "name": "stdout",
     "output_type": "stream",
     "text": [
      "2.0\n"
     ]
    }
   ],
   "source": [
    "import math\n",
    "\n",
    "n = int(input())\n",
    "ma = int(math.pow(n,1/3))\n",
    "ans = 0\n",
    "\n",
    "for i in range(1,int(1e6)):\n",
    "    j = i*i*i\n",
    "    tmp = str(j)[::-1]\n",
    "    if tmp == str(j) and ans < j:\n",
    "            ans = j\n",
    "print(ans)"
   ]
  },
  {
   "cell_type": "markdown",
   "metadata": {},
   "source": [
    "#### D問題"
   ]
  },
  {
   "cell_type": "code",
   "execution_count": null,
   "metadata": {},
   "outputs": [],
   "source": [
    "n,t = map(int,input().split())\n",
    "num_li = [ 0 for _ in range(n)]\n",
    "ans = set([0])\n",
    "for i in range(t):\n",
    "    a,b = map(int,input().split())\n",
    "    a = a-1\n",
    "    num_li[a] += b\n",
    "    ans.add(num_li[a])\n",
    "    print(len(ans))\n"
   ]
  },
  {
   "cell_type": "markdown",
   "metadata": {},
   "source": [
    "##### 得点の集合を作る， 消す作業ができない\n",
    "##### 愚直実装，時間がない\n",
    "##### 得点と人数の辞書を作る ，点数のリストを記録しつつ，点数の多様性のみを辞書で管理"
   ]
  },
  {
   "cell_type": "code",
   "execution_count": null,
   "metadata": {},
   "outputs": [],
   "source": [
    "n,t = map(int,input().split())\n",
    "num_li = [ 0 for _ in range(n)]\n",
    "ans = {0:n}\n",
    "for i in range(t):\n",
    "    a,b = map(int,input().split())\n",
    "    a = a-1\n",
    "    pre = num_li[a]\n",
    "    ans[pre] -=1\n",
    "\n",
    "    num_li[a] += b\n",
    "    if num_li[a] in ans.keys():\n",
    "        ans[num_li[a]] += 1\n",
    "    else: ans[num_li[a]] = 1\n",
    "    print(len(ans))\n"
   ]
  },
  {
   "cell_type": "markdown",
   "metadata": {},
   "source": [
    "#### E問題"
   ]
  },
  {
   "cell_type": "code",
   "execution_count": null,
   "metadata": {},
   "outputs": [],
   "source": [
    "x,y,z = map(int,input().split())\n",
    "\n",
    "## 二つの図形を網羅\n",
    "for i in range(8):\n",
    "    for j in range(8):\n",
    "        for k in range(8):\n",
    "            for a in range(8):\n",
    "                for b in range(8):\n",
    "                    for c in range(8):\n",
    "                        v_12 = (7-i) * (7-j) * (7-k)\n",
    "                        v_13 = (7-a) * (7-b) * (7-c)\n",
    "                        v_23 = abs(i-a) * abs(j-b) * abs(k-c)\n",
    "                        v_123 = ((7**3) * 3) - v_12 - v_13 - v_23\n",
    "                        tmp = ((7**3) * 3) - v_12+v_23+v_13- (2*v_123)\n",
    "                        if tmp == x and (v_12+v_13+v_23-(2*v_123)) ==y and z == v_123:\n",
    "                            print(\"Yes\")\n",
    "                            print(0,\" \",0,\" \",0,\" \",i,\" \",j,\" \",k,\" \",a,\" \",b,\" \",c)\n",
    "                            exit()\n",
    "\n"
   ]
  }
 ],
 "metadata": {
  "kernelspec": {
   "display_name": "jupyter_10.9",
   "language": "python",
   "name": "python3"
  },
  "language_info": {
   "codemirror_mode": {
    "name": "ipython",
    "version": 3
   },
   "file_extension": ".py",
   "mimetype": "text/x-python",
   "name": "python",
   "nbconvert_exporter": "python",
   "pygments_lexer": "ipython3",
   "version": "3.10.9"
  }
 },
 "nbformat": 4,
 "nbformat_minor": 2
}
