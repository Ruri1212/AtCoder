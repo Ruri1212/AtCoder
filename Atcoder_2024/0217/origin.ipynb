{
 "cells": [
  {
   "cell_type": "markdown",
   "metadata": {},
   "source": [
    "# B問題"
   ]
  },
  {
   "cell_type": "code",
   "execution_count": null,
   "metadata": {},
   "outputs": [],
   "source": [
    "n = int(input())\n",
    "a = list(map(int,input().split()))\n",
    "s = []\n",
    "t = []\n",
    "for _ in range(n-1):\n",
    "    x,y =map(int,input().split())\n",
    "    s.append(x)\n",
    "    t.append(y)\n",
    "\n",
    "for i in range(n-1):\n",
    "    d_num = a[i] // s[i]\n",
    "    a[i+1] += d_num * t[i]    \n",
    "print(a[i+i])"
   ]
  },
  {
   "cell_type": "markdown",
   "metadata": {},
   "source": [
    "# C問題"
   ]
  },
  {
   "cell_type": "code",
   "execution_count": null,
   "metadata": {},
   "outputs": [],
   "source": [
    "h,w,n = map(int,input().split())\n",
    "t = list(input())\n",
    "s = []\n",
    "for _ in range(h):\n",
    "    s.append(list(input()))\n",
    "\n",
    "t_len = len(t)\n",
    "ans = 0\n",
    "for i in range(h):\n",
    "    for j in range(w):\n",
    "        if s[i][j] == \".\":\n",
    "            y = i\n",
    "            x = j\n",
    "            for ind,acction in enumerate(t):\n",
    "                if acction == \"L\":\n",
    "                    x -=1                    \n",
    "                elif acction == \"R\":\n",
    "                    x+=1\n",
    "                elif acction == \"U\":\n",
    "                    y-=1\n",
    "                elif acction == \"D\":\n",
    "                    y+=1\n",
    "                \n",
    "                if s[y][x] == \".\":\n",
    "                    if ind == t_len-1:\n",
    "                        ans += 1\n",
    "                    continue\n",
    "                else:\n",
    "                    break\n",
    "print(ans)"
   ]
  },
  {
   "cell_type": "markdown",
   "metadata": {},
   "source": [
    "# D問題の解説を試す\n",
    "\n",
    "### 一方のみで割り切れる数のうち，K番目の数は?\n",
    "\n",
    "#### あらかじめ答えの範囲がわかっているから，2分探索を用いる"
   ]
  },
  {
   "cell_type": "code",
   "execution_count": null,
   "metadata": {},
   "outputs": [],
   "source": []
  },
  {
   "cell_type": "code",
   "execution_count": null,
   "metadata": {},
   "outputs": [],
   "source": []
  },
  {
   "cell_type": "markdown",
   "metadata": {},
   "source": [
    "# E問題"
   ]
  },
  {
   "cell_type": "code",
   "execution_count": null,
   "metadata": {},
   "outputs": [],
   "source": [
    "n,q = map(int,input().split())\n",
    "s = list(input())\n",
    "\n",
    "for _ in range(q):\n",
    "    num,l,r = map(int,input().split())\n",
    "    ## 異なるかの判定\n",
    "    if num == 1:\n",
    "        pre = 2\n",
    "        flag = 0\n",
    "        for i in s[l-1:r]:\n",
    "            if pre == i:\n",
    "                flag += 1\n",
    "            pre = i\n",
    "        if flag == 0:\n",
    "            print(\"Yes\")\n",
    "        else: print(\"No\")\n",
    "    \n",
    "    elif num == 2:\n",
    "        for ind,x in enumerate(s[l-1:r]):\n",
    "            s[l+ind] = 1-x"
   ]
  },
  {
   "cell_type": "code",
   "execution_count": null,
   "metadata": {},
   "outputs": [],
   "source": [
    "n,q = map(int,input().split())\n",
    "s = list(input())\n",
    "\n",
    "\n",
    "can_1=[bool(i % 2) for i in range(n)]\n",
    "can_2=[bool(i % 2 == 0) for i in range(n)] \n",
    "\n",
    "for _ in range(q):\n",
    "    num,l,r = map(int,input().split())\n",
    "    l = l-1\n",
    "    ## 異なるかの判定\n",
    "    if num == 2:\n",
    "        tmp = list(map(int,s[l:r]))\n",
    "        if tmp == can_1[:len(tmp)] or tmp == can_2[:len(tmp)]:\n",
    "            print(\"Yes\")\n",
    "        else: print(\"No\")\n",
    "\n",
    "    elif num == 1:\n",
    "        s[l:r] = [ not i for i in s[l:r]]"
   ]
  },
  {
   "cell_type": "code",
   "execution_count": 6,
   "metadata": {},
   "outputs": [
    {
     "name": "stdout",
     "output_type": "stream",
     "text": [
      "143\n"
     ]
    }
   ],
   "source": [
    "a = [\"1\",\"4\",\"3\"]\n",
    "b = \"\"\n",
    "for i in a:\n",
    "    b += \"\".join(i)\n",
    "print(b)\n",
    "a = [0,1,0,1]\n",
    "a_1 = [not i for i in a]\n",
    "print(a_1)\n",
    "print([not i for i in a])"
   ]
  },
  {
   "cell_type": "markdown",
   "metadata": {},
   "source": [
    "# E問題：解説の方法を試す\n",
    "\n",
    "### c++ setを用いた方がより (http://vivi.dyndns.org/tech/cpp/set.html)\n",
    "### python はライブラリのsegtreeを使ったコードばかり"
   ]
  },
  {
   "cell_type": "code",
   "execution_count": null,
   "metadata": {},
   "outputs": [],
   "source": [
    "#### 差をリストを用いて表現しようとした婆愛\n",
    "\n",
    "n,q = map(int,input().split())\n",
    "s = [ int(i) for i in list(input()) ]\n",
    "\n",
    "\n",
    "### 区間の処理を境界処理に変更する工夫\n",
    "diff = set([])\n",
    "pre = s[0]\n",
    "for num in s[1:]:\n",
    "    if pre == num: diff.add(0)\n",
    "    else: diff.add(1)\n",
    "    pre = num\n",
    "\n",
    "# クエリの処理を行う\n",
    "for _ in range(q):\n",
    "    num,l,r = map(int,input().split())\n",
    "    l = l-1\n",
    "    r = r-1\n",
    "\n",
    "\n",
    "    # 反転させる\n",
    "    if num == 1:\n",
    "        if l != 0: diff[l] = 1- diff[l]\n",
    "        if r != n-1: diff[r] = 1- diff[r]\n",
    "\n",
    "    elif num == 2:\n",
    "        a = sum(diff[l:r+1])\n",
    "        if list(a) == [1] or list(a) == []: print(\"Yes\")\n",
    "        else: print(\"No\")\n"
   ]
  },
  {
   "cell_type": "code",
   "execution_count": null,
   "metadata": {},
   "outputs": [],
   "source": [
    "n,q = map(int,input().split())\n",
    "s = [ int(i) for i in list(input()) ]\n",
    "\n",
    "\n",
    "### 区間の処理を境界処理に変更する工夫\n",
    "diff = set([])\n",
    "pre = s[0]\n",
    "for num in s[1:]:\n",
    "    if pre == num: diff.add(0)\n",
    "    else: diff.add(1)\n",
    "    pre = num\n",
    "\n",
    "# クエリの処理を行う\n",
    "for _ in range(q):\n",
    "    num,l,r = map(int,input().split())\n",
    "    l = l-1\n",
    "    r = r-1\n",
    "\n",
    "    if diff != set([]):\n",
    "        # 反転させる\n",
    "        if num == 1:\n",
    "            if l == r: diff.add(1)\n",
    "            elif l != 0: diff.add(1)\n",
    "            elif r != n-1: diff[r] = 1- diff[r]\n",
    "\n",
    "        elif num == 2:\n",
    "            a = sum(diff[l:r+1])\n",
    "            if list(a) == [1] or list(a) == []: print(\"Yes\")\n",
    "            else: print(\"No\")\n",
    "    else:\n",
    "        if num == 2: print(\"Yes\")\n"
   ]
  },
  {
   "cell_type": "code",
   "execution_count": 20,
   "metadata": {},
   "outputs": [
    {
     "name": "stdout",
     "output_type": "stream",
     "text": [
      "{1}\n",
      "set()\n"
     ]
    }
   ],
   "source": [
    "a =[]\n",
    "b = set(a)\n",
    "b.add(1)\n",
    "print(b)\n",
    "b.discard(1)\n",
    "print(b)"
   ]
  }
 ],
 "metadata": {
  "kernelspec": {
   "display_name": "jupyter_10.9",
   "language": "python",
   "name": "python3"
  },
  "language_info": {
   "codemirror_mode": {
    "name": "ipython",
    "version": 3
   },
   "file_extension": ".py",
   "mimetype": "text/x-python",
   "name": "python",
   "nbconvert_exporter": "python",
   "pygments_lexer": "ipython3",
   "version": "3.10.9"
  }
 },
 "nbformat": 4,
 "nbformat_minor": 2
}
