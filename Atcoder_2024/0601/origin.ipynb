{
 "cells": [
  {
   "cell_type": "markdown",
   "metadata": {},
   "source": [
    "#### 必要になりそうな定数等"
   ]
  },
  {
   "cell_type": "code",
   "execution_count": null,
   "metadata": {},
   "outputs": [],
   "source": [
    "s = \" abcdefghijklmnopqrstuvwxyz \""
   ]
  },
  {
   "cell_type": "code",
   "execution_count": 2,
   "metadata": {},
   "outputs": [
    {
     "name": "stdout",
     "output_type": "stream",
     "text": [
      "[1, 2, 4]\n",
      "[2]\n"
     ]
    }
   ],
   "source": [
    "a = [1]\n",
    "b = [2,4]\n",
    "print(a+b)\n",
    "print(b[:-1])"
   ]
  },
  {
   "cell_type": "markdown",
   "metadata": {},
   "source": [
    "#### A問題"
   ]
  },
  {
   "cell_type": "code",
   "execution_count": null,
   "metadata": {},
   "outputs": [],
   "source": [
    "def I(): return int(input())\n",
    "def L(): return list(map(int,input().split()))\n",
    "def M(): return map(int,input().split())\n",
    "\n",
    "\n"
   ]
  },
  {
   "cell_type": "markdown",
   "metadata": {},
   "source": [
    "#### B問題"
   ]
  },
  {
   "cell_type": "code",
   "execution_count": null,
   "metadata": {},
   "outputs": [],
   "source": [
    "def I(): return int(input())\n",
    "def L(): return list(map(int,input().split()))\n",
    "def M(): return map(int,input().split())\n",
    "\n"
   ]
  },
  {
   "cell_type": "markdown",
   "metadata": {},
   "source": [
    "#### C問題"
   ]
  },
  {
   "cell_type": "code",
   "execution_count": null,
   "metadata": {},
   "outputs": [],
   "source": [
    "def I(): return int(input())\n",
    "def L(): return list(map(int,input().split()))\n",
    "def M(): return map(int,input().split())\n",
    "\n"
   ]
  },
  {
   "cell_type": "code",
   "execution_count": null,
   "metadata": {},
   "outputs": [],
   "source": []
  },
  {
   "cell_type": "markdown",
   "metadata": {},
   "source": [
    "#### D問題"
   ]
  },
  {
   "cell_type": "code",
   "execution_count": null,
   "metadata": {},
   "outputs": [],
   "source": [
    "def I(): return int(input())\n",
    "def L(): return list(map(int,input().split()))\n",
    "def M(): return map(int,input().split())\n",
    "\n"
   ]
  },
  {
   "cell_type": "code",
   "execution_count": null,
   "metadata": {},
   "outputs": [],
   "source": []
  },
  {
   "cell_type": "markdown",
   "metadata": {},
   "source": [
    "#### E問題"
   ]
  },
  {
   "cell_type": "code",
   "execution_count": 9,
   "metadata": {},
   "outputs": [
    {
     "name": "stdout",
     "output_type": "stream",
     "text": [
      "1 3 2 4 5\n"
     ]
    }
   ],
   "source": [
    "\n",
    "\n",
    "\n",
    "n,l,r = 5,2,3\n",
    "\n",
    "x = [i+1 for i in range(n)]\n",
    "x_r = sorted(x[l-1:r],reverse=True)\n",
    "y = x[0:l-1] + x_r + x[r:]\n",
    "print(*y)"
   ]
  },
  {
   "cell_type": "code",
   "execution_count": null,
   "metadata": {},
   "outputs": [],
   "source": [
    "n,m = map(int,input().split())\n",
    "a = list(map(int,input().split()))\n",
    "x = []\n",
    "for i in range(n):\n",
    "    x.append(list(map(int,input().split())))\n",
    "\n",
    "x_t = []\n",
    "\n",
    "for j in range(m):\n",
    "    x_t.append([z[j] for z in x])\n",
    "\n",
    "for j in range(m):\n",
    "    sum_x = sum(x_t[j])\n",
    "    if sum_x >= a[j]:\n",
    "        continue\n",
    "    else:\n",
    "        print(\"No\")\n",
    "        exit()\n",
    "print(\"Yes\")\n",
    "    \n"
   ]
  },
  {
   "cell_type": "code",
   "execution_count": null,
   "metadata": {},
   "outputs": [],
   "source": [
    "import itertools\n",
    "\n",
    "n,m,k = map(int,input().split())\n",
    "\n",
    "candidate_set = set([])\n",
    "\n",
    "for i in range(m):\n",
    "    tmp = input().split()\n",
    "    c,keys,flag = int(tmp[0]),list(map(int,tmp[1:-1])),tmp[-1]\n",
    "    if flag ==\"o\":\n",
    "        continue\n",
    "    else:\n",
    "        p = itertools.permutations(keys, k)\n",
    "        print(p)\n"
   ]
  },
  {
   "cell_type": "code",
   "execution_count": null,
   "metadata": {},
   "outputs": [],
   "source": [
    "import itertools\n",
    "\n",
    "n,m,k = map(int,input().split())\n",
    "\n",
    "candidate_set = set([])        \n",
    "for p in itertools.permutations([i+1 for i in range(n)], k):\n",
    "    p = frozenset(sorted(p))\n",
    "    candidate_set.add(p)\n",
    "print(candidate_set)\n",
    "\n",
    "for i in range(m):\n",
    "    tmp = input().split()\n",
    "    c,keys,flag = int(tmp[0]),list(map(int,tmp[1:-1])),tmp[-1]\n",
    "\n",
    "  \n",
    "for i in candidate_set:\n",
    "    tmp = set(list(i))\n",
    "    for i in range(m):\n",
    "        if tmp.issubset(set(keys[i])) and flag[i]==\"o\":\n",
    "            continue\n",
    "        else:\n",
    "            candidate_set.discard(frozenset(tmp))\n",
    "            break\n",
    "\n",
    "print(len(candidate_set))\n",
    "\n",
    "\n",
    "    "
   ]
  },
  {
   "cell_type": "code",
   "execution_count": 2,
   "metadata": {},
   "outputs": [
    {
     "name": "stdout",
     "output_type": "stream",
     "text": [
      "True\n"
     ]
    }
   ],
   "source": [
    "a = set([1,2,4])\n",
    "b = set([1,4])\n",
    "print(b.issubset(a))"
   ]
  },
  {
   "cell_type": "code",
   "execution_count": 11,
   "metadata": {},
   "outputs": [
    {
     "name": "stdout",
     "output_type": "stream",
     "text": [
      "4\n"
     ]
    }
   ],
   "source": [
    "n,m = map(int,input().split())\n",
    "m = f'{m:b}'\n",
    "ans = 0\n",
    "for i in range(n):\n",
    "    x = f'{i:b}'\n",
    "    result = ''.join('1' if x == y else '0' for x, y in zip(x, m))\n",
    "    count_of_ones = result.count('1')\n",
    "    ans+= count_of_ones\n",
    "print(ans%998244353)"
   ]
  },
  {
   "cell_type": "code",
   "execution_count": 8,
   "metadata": {},
   "outputs": [
    {
     "name": "stdout",
     "output_type": "stream",
     "text": [
      "0b1000111\n"
     ]
    }
   ],
   "source": [
    "a = \"0111\"\n",
    "b = \"1111\"\n",
    "print(bin(int(a)&int(b)))"
   ]
  }
 ],
 "metadata": {
  "kernelspec": {
   "display_name": "Python 3",
   "language": "python",
   "name": "python3"
  },
  "language_info": {
   "codemirror_mode": {
    "name": "ipython",
    "version": 3
   },
   "file_extension": ".py",
   "mimetype": "text/x-python",
   "name": "python",
   "nbconvert_exporter": "python",
   "pygments_lexer": "ipython3",
   "version": "3.10.9"
  }
 },
 "nbformat": 4,
 "nbformat_minor": 2
}
