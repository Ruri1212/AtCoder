{
 "cells": [
  {
   "cell_type": "code",
   "execution_count": null,
   "metadata": {},
   "outputs": [],
   "source": [
    "s = input()\n",
    "tmp = s[0]\n",
    "for index,i in enumerate(s[1:]):\n",
    "  if tmp != i:\n",
    "    print(index+2)"
   ]
  },
  {
   "cell_type": "markdown",
   "metadata": {},
   "source": [
    "# B問題"
   ]
  },
  {
   "cell_type": "code",
   "execution_count": null,
   "metadata": {},
   "outputs": [],
   "source": [
    "n = int(input())\n",
    "p = list(map(int,input().split()))\n",
    "q = int(input())\n",
    "\n",
    "for _ in range(q):\n",
    "    x,y = map(int,input().split())\n",
    "    x_num = p.index(x)\n",
    "    y_num = p.index(y)\n",
    "    if x_num >= y_num:\n",
    "        print(y)\n",
    "    else:\n",
    "        print(x)"
   ]
  },
  {
   "cell_type": "markdown",
   "metadata": {},
   "source": [
    "# C問題"
   ]
  },
  {
   "cell_type": "code",
   "execution_count": null,
   "metadata": {},
   "outputs": [],
   "source": [
    "n = int(input())\n",
    "s = input()\n",
    "q = int(input())\n",
    "\n",
    "dic_alpha = {}\n",
    "for _ in range(q):\n",
    "    c,d = input().split()\n",
    "    if c in dic_alpha.values():\n",
    "        for key,value in dic_alpha.items():\n",
    "            if value == c:\n",
    "                # dic_alpha.pop(key)\n",
    "                tmp = key\n",
    "        del dic_alpha[tmp]\n",
    "        dic_alpha[tmp] = d\n",
    "    else:\n",
    "        dic_alpha[c] = d\n",
    "\n",
    "for key in dic_alpha.keys():\n",
    "    s = s.replace(key,dic_alpha[key])\n",
    "print(s)"
   ]
  },
  {
   "cell_type": "code",
   "execution_count": null,
   "metadata": {},
   "outputs": [],
   "source": [
    "laklimamriiamrmrllrmlrkramrjimrial"
   ]
  },
  {
   "cell_type": "code",
   "execution_count": 2,
   "metadata": {},
   "outputs": [
    {
     "name": "stdout",
     "output_type": "stream",
     "text": [
      "1\n",
      "2\n"
     ]
    }
   ],
   "source": [
    "if c in list_alpha.keys():\n",
    "        list_alpha[c] = d\n",
    "    else:\n",
    "\n",
    "dic = {\"abc\":1,\"d\":2}\n",
    "print(dic[\"abc\"])\n",
    "dic[\"abc\"] = 2\n",
    "print(dic[\"abc\"])"
   ]
  },
  {
   "cell_type": "markdown",
   "metadata": {},
   "source": [
    "# D問題"
   ]
  },
  {
   "cell_type": "code",
   "execution_count": null,
   "metadata": {},
   "outputs": [],
   "source": [
    "n = int(input())\n",
    "a = list(map(int,input().split()))\n",
    "a_set = set(a)\n",
    "b = []\n",
    "for i in a:\n",
    "    b.append()\n",
    "\n",
    "for i in range(2e5):"
   ]
  },
  {
   "cell_type": "code",
   "execution_count": null,
   "metadata": {},
   "outputs": [],
   "source": []
  },
  {
   "cell_type": "markdown",
   "metadata": {},
   "source": [
    "# E問題"
   ]
  }
 ],
 "metadata": {
  "kernelspec": {
   "display_name": "jupyter_10.9",
   "language": "python",
   "name": "python3"
  },
  "language_info": {
   "codemirror_mode": {
    "name": "ipython",
    "version": 3
   },
   "file_extension": ".py",
   "mimetype": "text/x-python",
   "name": "python",
   "nbconvert_exporter": "python",
   "pygments_lexer": "ipython3",
   "version": "3.10.9"
  }
 },
 "nbformat": 4,
 "nbformat_minor": 2
}
