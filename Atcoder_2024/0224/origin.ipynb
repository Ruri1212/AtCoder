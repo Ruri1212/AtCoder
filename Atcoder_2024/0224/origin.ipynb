{
 "cells": [
  {
   "cell_type": "code",
   "execution_count": null,
   "metadata": {},
   "outputs": [],
   "source": [
    "s = input()\n",
    "tmp = s[0]\n",
    "for index,i in enumerate(s[1:]):\n",
    "  if tmp != i:\n",
    "    print(index+2)"
   ]
  },
  {
   "cell_type": "markdown",
   "metadata": {},
   "source": [
    "# B問題"
   ]
  },
  {
   "cell_type": "code",
   "execution_count": null,
   "metadata": {},
   "outputs": [],
   "source": [
    "n = int(input())\n",
    "p = list(map(int,input().split()))\n",
    "q = int(input())\n",
    "\n",
    "for _ in range(q):\n",
    "    x,y = map(int,input().split())\n",
    "    x_num = p.index(x)\n",
    "    y_num = p.index(y)\n",
    "    if x_num >= y_num:\n",
    "        print(y)\n",
    "    else:\n",
    "        print(x)"
   ]
  },
  {
   "cell_type": "markdown",
   "metadata": {},
   "source": [
    "# C問題"
   ]
  },
  {
   "cell_type": "code",
   "execution_count": null,
   "metadata": {},
   "outputs": [],
   "source": [
    "n = int(input())\n",
    "s = input()\n",
    "q = int(input())\n",
    "\n",
    "dic_alpha = {}\n",
    "for _ in range(q):\n",
    "    c,d = input().split()\n",
    "    if c in dic_alpha.values():\n",
    "        for key,value in dic_alpha.items():\n",
    "            if value == c:\n",
    "                # dic_alpha.pop(key)\n",
    "                tmp = key\n",
    "        del dic_alpha[tmp]\n",
    "        dic_alpha[tmp] = d\n",
    "    else:\n",
    "        dic_alpha[c] = d\n",
    "\n",
    "for key in dic_alpha.keys():\n",
    "    s = s.replace(key,dic_alpha[key])\n",
    "print(s)"
   ]
  },
  {
   "cell_type": "markdown",
   "metadata": {},
   "source": [
    "## 解説\n",
    "### アルファベット全体を先に定義し，変更先を決定する"
   ]
  },
  {
   "cell_type": "code",
   "execution_count": 3,
   "metadata": {},
   "outputs": [],
   "source": [
    "s = list(\"abc\")\n",
    "s[0] = \"d\""
   ]
  },
  {
   "cell_type": "code",
   "execution_count": 5,
   "metadata": {},
   "outputs": [],
   "source": [
    "origin = \"abcdefghijklmnopqrstuvwxyz\"\n",
    "after = list(\"abcdefghijklmnopqrstuvwxyz\")\n",
    "n = int(input())\n",
    "s = input()\n",
    "q = int(input())\n",
    "\n",
    "for _ in range(q):\n",
    "    c,d = input().split()\n",
    "    ## アルファベットの変更先を記録\n",
    "    for index,char in enumerate(after):\n",
    "        if char == c:\n",
    "            after[index] = d\n",
    "\n",
    "for i in s:\n",
    "    for index,char in enumerate(origin):\n",
    "        if i == char:\n",
    "            print(after[index],end=\"\")"
   ]
  },
  {
   "cell_type": "code",
   "execution_count": 2,
   "metadata": {},
   "outputs": [
    {
     "name": "stdout",
     "output_type": "stream",
     "text": [
      "1\n",
      "2\n"
     ]
    }
   ],
   "source": [
    "if c in list_alpha.keys():\n",
    "        list_alpha[c] = d\n",
    "    else:\n",
    "\n",
    "dic = {\"abc\":1,\"d\":2}\n",
    "print(dic[\"abc\"])\n",
    "dic[\"abc\"] = 2\n",
    "print(dic[\"abc\"])"
   ]
  },
  {
   "cell_type": "markdown",
   "metadata": {},
   "source": [
    "# D問題"
   ]
  },
  {
   "cell_type": "code",
   "execution_count": null,
   "metadata": {},
   "outputs": [],
   "source": [
    "n = int(input())\n",
    "a = list(map(int,input().split()))\n",
    "a_set = set(a)\n",
    "b = []\n",
    "for i in a:\n",
    "    b.append()\n",
    "\n",
    "for i in range(2e5):"
   ]
  },
  {
   "cell_type": "markdown",
   "metadata": {},
   "source": [
    "### 解説　\n",
    "#### 平方数，ある数を割り切る最大の平方数で割った値が平方数であることを用いる\n",
    "#### ある数をx,その数を割り切る最大の平方数をdとすると，x/dが平方数であるかどうかを判定する\n",
    "#### cppで回答を作成"
   ]
  },
  {
   "cell_type": "code",
   "execution_count": null,
   "metadata": {},
   "outputs": [],
   "source": [
    "n = int(input())\n",
    "a = list(map(int,input().split()))\n",
    "\n",
    "for i "
   ]
  },
  {
   "cell_type": "markdown",
   "metadata": {},
   "source": [
    "# E問題"
   ]
  }
 ],
 "metadata": {
  "kernelspec": {
   "display_name": "jupyter_10.9",
   "language": "python",
   "name": "python3"
  },
  "language_info": {
   "codemirror_mode": {
    "name": "ipython",
    "version": 3
   },
   "file_extension": ".py",
   "mimetype": "text/x-python",
   "name": "python",
   "nbconvert_exporter": "python",
   "pygments_lexer": "ipython3",
   "version": "3.10.9"
  }
 },
 "nbformat": 4,
 "nbformat_minor": 2
}
