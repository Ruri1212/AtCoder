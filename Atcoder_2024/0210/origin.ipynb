{
 "cells": [
  {
   "cell_type": "markdown",
   "metadata": {},
   "source": [
    "# B問題"
   ]
  },
  {
   "cell_type": "code",
   "execution_count": null,
   "metadata": {},
   "outputs": [],
   "source": [
    "q = int(input())\n",
    "a =[]\n",
    "for i in range(q):\n",
    "    x,y = input().split()\n",
    "    x = int(x)\n",
    "    y = int(y)\n",
    "    if x == 1:\n",
    "        a.append(y)\n",
    "    elif x == 2:\n",
    "        print(a[-y],end=\" \")"
   ]
  },
  {
   "cell_type": "code",
   "execution_count": null,
   "metadata": {},
   "outputs": [],
   "source": []
  },
  {
   "cell_type": "markdown",
   "metadata": {},
   "source": [
    "# C問題"
   ]
  },
  {
   "cell_type": "code",
   "execution_count": 8,
   "metadata": {},
   "outputs": [
    {
     "name": "stdout",
     "output_type": "stream",
     "text": [
      "1319\n"
     ]
    }
   ],
   "source": [
    "# n=int(input())\n",
    "n = 340\n",
    "ans = 0\n",
    "tmp = 1\n",
    "while n >= 2:\n",
    "    ans += n * tmp\n",
    "    n  = n // 2\n",
    "    tmp += 1\n",
    "\n",
    "print(ans)"
   ]
  },
  {
   "cell_type": "markdown",
   "metadata": {},
   "source": [
    "<p>index_n: 　　1 2 3 4 5 6 7 8</p>\n",
    "ans : 　　　0 2 5 8 12 16 20 24"
   ]
  },
  {
   "cell_type": "code",
   "execution_count": 47,
   "metadata": {},
   "outputs": [
    {
     "name": "stdout",
     "output_type": "stream",
     "text": [
      "5\n"
     ]
    }
   ],
   "source": [
    "import math\n",
    "# index_nに相当\n",
    "n =  int(input())\n",
    "\n",
    "index_n = 2\n",
    "n_2 = 1\n",
    "ans = 2\n",
    "pre = index_n\n",
    "\n",
    "## 二乗の領域を求める\n",
    "while  n > index_n :\n",
    "    n_2 *= 2\n",
    "    pre = index_n\n",
    "    index_n += n_2\n",
    "\n",
    "## そこまでの和を足す\n",
    "i = 1\n",
    "while int(math.log2(n_2)) > i:\n",
    "    ans += (2**i) * (i+2)\n",
    "    i+= 1\n",
    "\n",
    "## 最後の領域の和を足す\n",
    "ans +=  (n-pre) * (int(math.log2(n_2))+2)\n",
    "pre += 1\n",
    "\n",
    "print(ans)\n"
   ]
  },
  {
   "cell_type": "markdown",
   "metadata": {},
   "source": [
    "# D問題"
   ]
  },
  {
   "cell_type": "code",
   "execution_count": null,
   "metadata": {},
   "outputs": [],
   "source": []
  },
  {
   "cell_type": "code",
   "execution_count": null,
   "metadata": {},
   "outputs": [],
   "source": []
  }
 ],
 "metadata": {
  "kernelspec": {
   "display_name": "jupyter_10.9",
   "language": "python",
   "name": "python3"
  },
  "language_info": {
   "codemirror_mode": {
    "name": "ipython",
    "version": 3
   },
   "file_extension": ".py",
   "mimetype": "text/x-python",
   "name": "python",
   "nbconvert_exporter": "python",
   "pygments_lexer": "ipython3",
   "version": "3.10.9"
  }
 },
 "nbformat": 4,
 "nbformat_minor": 2
}
