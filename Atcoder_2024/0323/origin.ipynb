{
 "cells": [
  {
   "cell_type": "markdown",
   "metadata": {},
   "source": [
    "#### 必要になりそうな定数等"
   ]
  },
  {
   "cell_type": "code",
   "execution_count": null,
   "metadata": {},
   "outputs": [],
   "source": [
    "s = \" abcdefghijklmnopqrstuvwxyz \""
   ]
  },
  {
   "cell_type": "markdown",
   "metadata": {},
   "source": [
    "#### A問題"
   ]
  },
  {
   "cell_type": "code",
   "execution_count": null,
   "metadata": {},
   "outputs": [],
   "source": [
    "n = int(input())\n",
    "a = list(map(int,input().split()))\n",
    "for i in range(len(a)-1):\n",
    "  print(a[i]*a[i+1],end = \" \")"
   ]
  },
  {
   "cell_type": "markdown",
   "metadata": {},
   "source": [
    "#### B問題"
   ]
  },
  {
   "cell_type": "code",
   "execution_count": null,
   "metadata": {},
   "outputs": [],
   "source": [
    "w,b = map(int,input().split())\n",
    "s = \"wbwbwwbwbwbw\"*30\n",
    "\n",
    "for i in range(len(s)):\n",
    "    tmp = s[i:i+(w+b)]\n",
    "    w_num = tmp.count(\"w\")\n",
    "    b_num = tmp.count(\"b\")\n",
    "    if w_num == w and b_num == b:\n",
    "        print(\"Yes\")\n",
    "        exit()  \n",
    "print(\"No\")\n",
    "    \n",
    "\n"
   ]
  },
  {
   "cell_type": "code",
   "execution_count": 5,
   "metadata": {},
   "outputs": [
    {
     "name": "stdout",
     "output_type": "stream",
     "text": [
      "2\n",
      "wbwbw\n"
     ]
    }
   ],
   "source": [
    "s = \"wbwbwwbwbwbw\"\n",
    "print(s[0:5].count(\"b\"))\n",
    "print(s[0:5])"
   ]
  },
  {
   "cell_type": "markdown",
   "metadata": {},
   "source": [
    "#### C問題"
   ]
  },
  {
   "cell_type": "code",
   "execution_count": null,
   "metadata": {},
   "outputs": [],
   "source": [
    "n,k = map(int,input().split())\n",
    "a = list(set(map(int,input().split())))\n",
    "\n",
    "s = int(k*(k+1)/2)\n",
    "for i in a:\n",
    "    if 1<= i and i <= k:\n",
    "        s -= i\n",
    "print(s)\n",
    "\n",
    "\n",
    "\n",
    "# for i in range(1,k+1):\n",
    "#     if i not in a:\n",
    "#         ans += i\n",
    "# print(ans)\n"
   ]
  },
  {
   "cell_type": "code",
   "execution_count": null,
   "metadata": {},
   "outputs": [],
   "source": [
    "n,k = map(int,input().split())\n",
    "a = list(map(int,input().split()))\n",
    "\n",
    "s = (k*(k+1))/2\n",
    "s_a = sum(a)\n",
    "\n",
    "print(s - s_a)"
   ]
  },
  {
   "cell_type": "markdown",
   "metadata": {},
   "source": [
    "#### D問題"
   ]
  },
  {
   "cell_type": "code",
   "execution_count": null,
   "metadata": {},
   "outputs": [],
   "source": [
    "n = int(input())\n",
    "s = input()\n",
    "c = list(map(int,input().split()))\n",
    "\n",
    "s = \"9\"+s\n",
    "dp = [ [-1]* (len(s)) for _ in range(n)]\n",
    "dp[0][0] = 0\n",
    "\n",
    "for i in range(n):\n",
    "    for j in range(1,len(s)):\n",
    "        ne = s[j+1]\n",
    "        if ne == s[j]: dp[i][j] = dp[i][j-1] + c[i]"
   ]
  },
  {
   "cell_type": "code",
   "execution_count": null,
   "metadata": {},
   "outputs": [],
   "source": [
    "n = int(input())\n",
    "s = input()\n",
    "c = list(map(int,input().split()))\n",
    "\n",
    "s_ne =[0 for _ in range(len(s)-1)]\n",
    "\n",
    "for i in range(len(s)-1):\n",
    "    ne = s[i+1]\n",
    "    if ne == s[i]:\n",
    "        s_ne[i] = 1\n",
    "\n",
    "ans = 0\n",
    "for i in range(len(s)-1):\n",
    "    if s_ne[i] == 1:\n",
    "        ans += c[i]\n",
    "        s_ne[i+1] = 0\n"
   ]
  },
  {
   "cell_type": "code",
   "execution_count": null,
   "metadata": {},
   "outputs": [],
   "source": [
    "n = int(input())\n",
    "s = input()\n",
    "c = list(map(int,input().split()))\n",
    "\n",
    "\n",
    "can = [ \"100\",\"001\",\"1001\",\"1101\",\"01110\",\"010\",\"01\",\"00\",\"11\",\"10\",\"0010\",\"1011\",\"0100\"]\n",
    "\n",
    "if s in can:\n",
    "    print(0)\n",
    "    exit()\n",
    "\n",
    "a = 1\n",
    "can1 = \"\"\n",
    "can2 = \"\"\n",
    "\n",
    "max_index = c.index(max(c))\n",
    "\n",
    "\n",
    "i = 0\n",
    "while i<n:\n",
    "    if i != max_index:\n",
    "        can1 += str(a)\n",
    "        can2 += str(1-a)\n",
    "        a = 1-a\n",
    "        i += 1\n",
    "    else: \n",
    "        can1 += str(s[i])\n",
    "        can2 += str(s[i])\n",
    "        i+=1\n",
    "\n",
    "index_1 = []\n",
    "index_2 = []\n",
    "\n",
    "\n",
    "\n",
    "for index,ch in enumerate(s):\n",
    "    if ch != can1[index]:\n",
    "        index_1.append(index)\n",
    "    if ch != can2[index]:        \n",
    "        index_2.append(index)\n",
    "\n",
    "tmp_1 = 0\n",
    "tmp_2 = 0\n",
    "for i in index_1:\n",
    "    tmp_1 += c[i]\n",
    "\n",
    "for i in index_2:\n",
    "    tmp_2 += c[i]\n",
    "print(min(tmp_1,tmp_2))"
   ]
  },
  {
   "cell_type": "code",
   "execution_count": 7,
   "metadata": {},
   "outputs": [
    {
     "name": "stdout",
     "output_type": "stream",
     "text": [
      "0\n"
     ]
    }
   ],
   "source": [
    "a = 1\n",
    "print(a^1)"
   ]
  },
  {
   "cell_type": "markdown",
   "metadata": {},
   "source": [
    "### 動的計画法でとく\n",
    "i,j,kの三つを要素として，jは同じ箇所が何箇所あるか，kは最後の文字列が何であるか"
   ]
  },
  {
   "cell_type": "code",
   "execution_count": null,
   "metadata": {},
   "outputs": [],
   "source": [
    "def I(): return int(input())\n",
    "def L(): return list(map(int,input().split()))\n",
    "def M(): return map(int,input().split())\n",
    "\n",
    "n = I()\n",
    "s = input()\n",
    "c = L()\n",
    "\n",
    "INF = 10**18\n",
    "dp = [ [ [INF,INF] for _ in range(2) ] for _ in range(n)]\n",
    "\n",
    "\n",
    "dp[0][0][int(s[0])] = 0\n",
    "dp[0][0][int(s[0])^1] = c[0]\n",
    "\n",
    "for i in range(1,n):\n",
    "    for j in range(2):\n",
    "        dp[i][0][j] = dp[i-1][0][j^1] +  (0 if int(s[i]) == j else c[i])\n",
    "        dp[i][1][j] = min(dp[i-1][0][j],dp[i-1][1][j^1]) + (0 if int(s[i]) == j else c[i])\n",
    "\n",
    "ans = min(dp[n-1][1][0],dp[n-1][1][1])\n",
    "print(ans)\n"
   ]
  },
  {
   "cell_type": "markdown",
   "metadata": {},
   "source": [
    "#### E問題"
   ]
  },
  {
   "cell_type": "code",
   "execution_count": null,
   "metadata": {},
   "outputs": [],
   "source": []
  }
 ],
 "metadata": {
  "kernelspec": {
   "display_name": "jupyter_10.9",
   "language": "python",
   "name": "python3"
  },
  "language_info": {
   "codemirror_mode": {
    "name": "ipython",
    "version": 3
   },
   "file_extension": ".py",
   "mimetype": "text/x-python",
   "name": "python",
   "nbconvert_exporter": "python",
   "pygments_lexer": "ipython3",
   "version": "3.10.9"
  }
 },
 "nbformat": 4,
 "nbformat_minor": 2
}
