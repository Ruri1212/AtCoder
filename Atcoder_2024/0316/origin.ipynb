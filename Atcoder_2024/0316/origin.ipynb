{
 "cells": [
  {
   "cell_type": "markdown",
   "metadata": {},
   "source": [
    "#### 必要になりそうな定数等"
   ]
  },
  {
   "cell_type": "code",
   "execution_count": 4,
   "metadata": {},
   "outputs": [
    {
     "name": "stdout",
     "output_type": "stream",
     "text": [
      "26\n"
     ]
    }
   ],
   "source": [
    "s = \"abcdefghijklmnopqrstuvwxyz\"\n",
    "print(len(s))"
   ]
  },
  {
   "cell_type": "markdown",
   "metadata": {},
   "source": [
    "#### A問題"
   ]
  },
  {
   "cell_type": "code",
   "execution_count": 2,
   "metadata": {},
   "outputs": [
    {
     "name": "stdout",
     "output_type": "stream",
     "text": [
      "[23, 4]\n"
     ]
    }
   ],
   "source": [
    "a = [1,23,4,5]\n",
    "print(a[1:-1])"
   ]
  },
  {
   "cell_type": "markdown",
   "metadata": {},
   "source": [
    "#### B問題"
   ]
  },
  {
   "cell_type": "code",
   "execution_count": null,
   "metadata": {},
   "outputs": [],
   "source": []
  },
  {
   "cell_type": "markdown",
   "metadata": {},
   "source": [
    "#### C問題"
   ]
  },
  {
   "cell_type": "code",
   "execution_count": null,
   "metadata": {},
   "outputs": [],
   "source": [
    "s = input()\n",
    "al = \"abcdefghijklmnopqrstuvwxyz\"\n",
    "al_num = [0 for _ in range(26)]\n",
    "\n",
    "for ch in s:\n",
    "  for index,a in enumerate(al):\n",
    "    if ch == a:\n",
    "      al_num[index] += 1\n",
    "      break\n",
    "\n",
    "ans = 0\n",
    "# 同じ文字が含まれる場合 +1\n",
    "for i in al_num:\n",
    "  if i>=2:\n",
    "    ans = 1\n",
    "    break\n",
    "  \n",
    "for index,x in enumerate(al_num):\n",
    "  for y in al_num[index+1 : ]:\n",
    "    ans += x*y\n",
    "\n",
    "print(ans)"
   ]
  },
  {
   "cell_type": "markdown",
   "metadata": {},
   "source": [
    "#### D問題"
   ]
  },
  {
   "cell_type": "code",
   "execution_count": null,
   "metadata": {},
   "outputs": [],
   "source": [
    "n,h,w = map(int,input().split())\n",
    "\n",
    "tile = [ [0,0] for _ in range(n)]\n",
    "for i in range(n):\n",
    "    x,y = map(int,input().split())\n",
    "    tile[i][0] = x\n",
    "    tile[i][1] = y\n",
    "\n",
    "ans = \"Yes\"\n",
    "\n",
    "used = [ [0] * w for _ in range(h)]\n",
    "\n",
    "for a in tile:\n",
    "    # 置こうとしているタイルの位置\n",
    "    i = 0\n",
    "    j = 0\n",
    "    # 置くタイルの大きさ\n",
    "    x = a[0]\n",
    "    y = a[1]\n",
    "    # 置いた箇所を1にする\n",
    "    for m in y:\n",
    "        for n in x:\n",
    "            used[m][n] = 1\n",
    "    # DFSを使います　\n",
    "    # DFS(i,j)\n",
    "    while()\n",
    "\n",
    "\n",
    "\n"
   ]
  },
  {
   "cell_type": "code",
   "execution_count": null,
   "metadata": {},
   "outputs": [],
   "source": [
    "n,h,w = map(int,input().split())\n",
    "\n",
    "tile = [ [0,0] for _ in range(n)]\n",
    "for i in range(n):\n",
    "    x,y = map(int,input().split())\n",
    "    tile[i][0] = x\n",
    "    tile[i][1] = y\n",
    "\n",
    "op_l = []\n",
    "for i in range(2**n):\n",
    "  op = [0] * n\n",
    "  for j in range(n):\n",
    "    if i >> j & 1:\n",
    "        op[n-j] = 1\n",
    "  op_l.append(op)\n",
    "print(op_l)\n",
    "\n",
    "tmp = 0\n",
    "for i in op_l:\n",
    "    for index,j in enumerate(i):\n",
    "        if j == 1:\n",
    "            tmp += tile[index][0]*tile[index][1]\n",
    "    if tmp == h*w:\n",
    "       print(\"Yes\")\n",
    "       exit()\n",
    "    else: \n",
    "       tmp = 0\n",
    "       \n",
    "print(\"No\")\n",
    "      \n"
   ]
  },
  {
   "cell_type": "code",
   "execution_count": 23,
   "metadata": {},
   "outputs": [
    {
     "name": "stdout",
     "output_type": "stream",
     "text": [
      "[[0, 0, 0], [0, 0, 1], [0, 1, 0], [0, 1, 1], [1, 0, 0], [1, 0, 1], [1, 1, 0], [1, 1, 1]]\n"
     ]
    }
   ],
   "source": [
    "op_l = []\n",
    "for i in range(2**3):\n",
    "  op = [0,0,0]\n",
    "  for j in range(3):\n",
    "    if i >> j & 1:\n",
    "        op[2-j] = 1\n",
    "  op_l.append(op)\n",
    "print(op_l)"
   ]
  },
  {
   "cell_type": "markdown",
   "metadata": {},
   "source": [
    "#### E問題"
   ]
  },
  {
   "cell_type": "code",
   "execution_count": null,
   "metadata": {},
   "outputs": [],
   "source": [
    "N,K = map(int,input().split())\n",
    "color =[]\n",
    "value = []\n",
    "\n",
    "for _ in range(N):\n",
    "    i,j = map(int,input().split())\n",
    "    color.append(i)\n",
    "    value.append(j)\n",
    "# ボールが連続している数を記録\n",
    "renzoku =[]\n",
    "pre = color[0]\n",
    "num = 1\n",
    "for i in range(1,N):\n",
    "    if pre == color[i]:\n",
    "        num += 1\n",
    "        if i == N-1:\n",
    "          renzoku.append(num)\n",
    "        continue\n",
    "    renzoku.append(num)\n",
    "    num = 1\n",
    "    pre = color[i]\n",
    "\n",
    "if sum(renzoku)-N > K:\n",
    "    print(-1)\n",
    "else:\n",
    "    ans = 0\n",
    "    index = 0\n",
    "    for i in renzoku:\n",
    "        ans += max(value[index:index+i])\n",
    "        index += i\n",
    "    print(ans)"
   ]
  }
 ],
 "metadata": {
  "kernelspec": {
   "display_name": "jupyter_10.9",
   "language": "python",
   "name": "python3"
  },
  "language_info": {
   "codemirror_mode": {
    "name": "ipython",
    "version": 3
   },
   "file_extension": ".py",
   "mimetype": "text/x-python",
   "name": "python",
   "nbconvert_exporter": "python",
   "pygments_lexer": "ipython3",
   "version": "3.10.9"
  }
 },
 "nbformat": 4,
 "nbformat_minor": 2
}
