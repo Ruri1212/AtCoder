{
 "cells": [
  {
   "cell_type": "markdown",
   "metadata": {},
   "source": [
    "#### 必要になりそうな定数等"
   ]
  },
  {
   "cell_type": "code",
   "execution_count": null,
   "metadata": {},
   "outputs": [],
   "source": [
    "s = \" abcdefghijklmnopqrstuvwxyz \""
   ]
  },
  {
   "cell_type": "markdown",
   "metadata": {},
   "source": [
    "#### A問題"
   ]
  },
  {
   "cell_type": "code",
   "execution_count": null,
   "metadata": {},
   "outputs": [],
   "source": [
    "def I(): return int(input())\n",
    "def L(): return list(map(int,input().split()))\n",
    "def M(): return map(int,input().split())\n",
    "\n",
    "\n",
    "n,k = map(int,input().split())\n",
    "a = list(map(int,input().split()))\n",
    "for i in a:\n",
    "  if i % k == 0:\n",
    "    print(int(i//k),end = \" \")"
   ]
  },
  {
   "cell_type": "markdown",
   "metadata": {},
   "source": [
    "#### B問題"
   ]
  },
  {
   "cell_type": "code",
   "execution_count": null,
   "metadata": {},
   "outputs": [],
   "source": [
    "def I(): return int(input())\n",
    "def L(): return list(map(int,input().split()))\n",
    "def M(): return map(int,input().split())\n",
    "\n",
    "\n",
    "s = input()\n",
    "\n",
    "s_set= set([])\n",
    "for i in s:\n",
    "    s_set.add(i)\n",
    "s_list = sorted(list(s_set))\n",
    "\n",
    "for i in range(len(s)):\n",
    "    tmp = \"\"\n",
    "    for ch in s_list:\n",
    "        tmp += ch\n",
    "        if len(tmp) == i:\n",
    "            break\n",
    "    \n",
    "\n"
   ]
  },
  {
   "cell_type": "code",
   "execution_count": 4,
   "metadata": {},
   "outputs": [
    {
     "name": "stdout",
     "output_type": "stream",
     "text": [
      "{'c', 'b', 'a', 'd'}\n",
      "['a', 'b', 'c', 'd']\n"
     ]
    }
   ],
   "source": [
    "s = \"abcddd\"\n",
    "s_set= set([])\n",
    "for i in s:\n",
    "    s_set.add(i)\n",
    "print(s_set)\n",
    "s_list = list(s_set)\n",
    "s_list = sorted(s_list)\n",
    "print(s_list)"
   ]
  },
  {
   "cell_type": "markdown",
   "metadata": {},
   "source": [
    "#### C問題"
   ]
  },
  {
   "cell_type": "code",
   "execution_count": null,
   "metadata": {},
   "outputs": [],
   "source": [
    "def I(): return int(input())\n",
    "def L(): return list(map(int,input().split()))\n",
    "def M(): return map(int,input().split())\n",
    "\n",
    "n,a,b = M()\n",
    "d = L()\n",
    "\n",
    "if n == 1:\n",
    "    print(\"Yes\")\n",
    "    exit()\n",
    "\n",
    "w_min = int(1e9)\n",
    "w_max = 0\n",
    "\n",
    "for i in d:\n",
    "    i = i % (a+b)\n",
    "    if i < w_min:\n",
    "        w_min = i\n",
    "    if w_max < i:\n",
    "        w_max = i\n",
    "\n",
    "if w_max-w_min > a-1:\n",
    "    print(\"No\")\n",
    "else: \n",
    "    print(\"Yes\")"
   ]
  },
  {
   "cell_type": "code",
   "execution_count": null,
   "metadata": {},
   "outputs": [],
   "source": [
    "def I(): return int(input())\n",
    "def L(): return list(map(int,input().split()))\n",
    "def M(): return map(int,input().split())\n",
    "\n",
    "n,a,b = M()\n",
    "d = L()\n",
    "\n",
    "e = [0] * len(d)\n",
    "\n",
    "for index,i in enumerate(d):\n",
    "    i = i % (a+b)\n",
    "    e[index] = i\n",
    "e = sorted(e)\n",
    "\n",
    "num_pre = e[0]\n",
    "\n",
    "for num_nex in e[1:]:\n",
    "    if (num_nex - num_pre) % (a+b) > b:\n",
    "        print(\"Yes\")\n",
    "        exit()\n",
    "    else:\n",
    "        num_pre = num_nex\n",
    "print(\"No\")"
   ]
  },
  {
   "cell_type": "markdown",
   "metadata": {},
   "source": [
    "#### D問題"
   ]
  },
  {
   "cell_type": "code",
   "execution_count": null,
   "metadata": {},
   "outputs": [],
   "source": [
    "def I(): return int(input())\n",
    "def L(): return list(map(int,input().split()))\n",
    "def M(): return map(int,input().split())\n",
    "\n"
   ]
  },
  {
   "cell_type": "code",
   "execution_count": null,
   "metadata": {},
   "outputs": [],
   "source": []
  },
  {
   "cell_type": "markdown",
   "metadata": {},
   "source": [
    "#### E問題"
   ]
  },
  {
   "cell_type": "code",
   "execution_count": null,
   "metadata": {},
   "outputs": [],
   "source": []
  }
 ],
 "metadata": {
  "kernelspec": {
   "display_name": "jupyter_10.9",
   "language": "python",
   "name": "python3"
  },
  "language_info": {
   "codemirror_mode": {
    "name": "ipython",
    "version": 3
   },
   "file_extension": ".py",
   "mimetype": "text/x-python",
   "name": "python",
   "nbconvert_exporter": "python",
   "pygments_lexer": "ipython3",
   "version": "3.10.9"
  }
 },
 "nbformat": 4,
 "nbformat_minor": 2
}
