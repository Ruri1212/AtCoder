{
 "cells": [
  {
   "cell_type": "markdown",
   "metadata": {},
   "source": [
    "# B問題"
   ]
  },
  {
   "cell_type": "code",
   "execution_count": null,
   "metadata": {},
   "outputs": [],
   "source": [
    "H,W,N = map(int,input().split())\n",
    "m = [ [\".\"]*W for _ in range(H)]\n",
    "x = y = 0\n",
    "direct = 0\n",
    "for i in range(N):\n",
    "    if m[y][x] == \".\":\n",
    "        m[y][x] = \"#\"\n",
    "        direct = (direct+1) % 4\n",
    "        if direct == 1:\n",
    "            x = (x+1) % W\n",
    "        elif direct == 0:\n",
    "            y = (y-1) % H\n",
    "        elif direct == 2:\n",
    "            y = (y+1) % H\n",
    "        else: x = (x-1) %W\n",
    "    else:\n",
    "        m[y][x] = \".\"\n",
    "        direct = (direct-1) %4\n",
    "        if direct == 1:\n",
    "            x = (x+1) % W\n",
    "        elif direct == 0:\n",
    "            y = (y-1) % H\n",
    "        elif direct == 2:\n",
    "            y = (y+1) %  H\n",
    "        else: x = (x-1) %W\n",
    "\n",
    "for l in m:\n",
    "    print(*l,sep = \"\")"
   ]
  },
  {
   "cell_type": "code",
   "execution_count": 4,
   "metadata": {},
   "outputs": [
    {
     "name": "stdout",
     "output_type": "stream",
     "text": [
      "1\n"
     ]
    }
   ],
   "source": [
    "a = 0\n",
    "a += 1\n",
    "print( a % 4)"
   ]
  },
  {
   "cell_type": "markdown",
   "metadata": {},
   "source": [
    "# C問題"
   ]
  },
  {
   "cell_type": "code",
   "execution_count": null,
   "metadata": {},
   "outputs": [],
   "source": [
    "N = int(input())\n",
    "A = list(map(int,input().split()))\n",
    "\n",
    "Ruiseki = [0 for _ in range(len(A))]\n",
    "\n",
    "for index,a in enumerate(A):\n",
    "    Ruiseki[index+1] = Ruiseki[index] + a\n",
    "    if index == len(A) -2:\n",
    "        break\n",
    "m = abs(min(Ruiseki))\n",
    "print(Ruiseki[-1]+m)"
   ]
  },
  {
   "cell_type": "code",
   "execution_count": null,
   "metadata": {},
   "outputs": [],
   "source": []
  },
  {
   "cell_type": "markdown",
   "metadata": {},
   "source": [
    "# D問題"
   ]
  },
  {
   "cell_type": "code",
   "execution_count": null,
   "metadata": {},
   "outputs": [],
   "source": [
    "N = int(input())\n",
    "S = []\n",
    "for _ in range(N):\n",
    "    S.append(list(input()))\n",
    "\n",
    "\n"
   ]
  },
  {
   "cell_type": "code",
   "execution_count": null,
   "metadata": {},
   "outputs": [],
   "source": []
  }
 ],
 "metadata": {
  "kernelspec": {
   "display_name": "jupyter_10.9",
   "language": "python",
   "name": "python3"
  },
  "language_info": {
   "codemirror_mode": {
    "name": "ipython",
    "version": 3
   },
   "file_extension": ".py",
   "mimetype": "text/x-python",
   "name": "python",
   "nbconvert_exporter": "python",
   "pygments_lexer": "ipython3",
   "version": "3.10.9"
  }
 },
 "nbformat": 4,
 "nbformat_minor": 2
}
