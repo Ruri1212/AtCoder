{
 "cells": [
  {
   "cell_type": "markdown",
   "metadata": {},
   "source": [
    "# C問題"
   ]
  },
  {
   "cell_type": "code",
   "execution_count": 1,
   "metadata": {},
   "outputs": [
    {
     "name": "stdout",
     "output_type": "stream",
     "text": [
      "0 1 4\n",
      "1 2 5\n",
      "2 3 6\n"
     ]
    }
   ],
   "source": [
    "a = [1,2,3]\n",
    "b = [4,5,6]\n",
    "for index,(x,y) in enumerate(zip(a,b)):\n",
    "  print(index,x,y)\n",
    "  "
   ]
  },
  {
   "cell_type": "code",
   "execution_count": 8,
   "metadata": {},
   "outputs": [
    {
     "name": "stdout",
     "output_type": "stream",
     "text": [
      "1\n",
      "0\n"
     ]
    }
   ],
   "source": [
    "b = input()\n",
    "print(b)\n",
    "a =[1,2]\n",
    "print(len(a[2:]))\n"
   ]
  },
  {
   "cell_type": "code",
   "execution_count": 2,
   "metadata": {},
   "outputs": [
    {
     "name": "stdout",
     "output_type": "stream",
     "text": [
      "[]\n"
     ]
    }
   ],
   "source": [
    "## メインコード\n",
    "\n",
    "n = int(input())\n",
    "a = list(map(int,input().split()))\n",
    "\n",
    "if n % 2 == 0:\n",
    "  a = a[1:]\n",
    "\n",
    "x = n //2\n",
    "a_head = a[0:x]\n",
    "a_tail = a[x+1:][::-1]\n",
    "\n",
    "  \n",
    "p = 0\n",
    "for index,(s,t) in enumerate(zip(a_head,a_tail)):\n",
    "    if s >= index+1 and t >= index+1:\n",
    "        continue\n",
    "    elif (index - p) <= max(index-s,index-t):\n",
    "       p = index\n",
    "\n",
    "print(len(a_head[p:]))\n",
    "    "
   ]
  },
  {
   "cell_type": "markdown",
   "metadata": {},
   "source": [
    "# D問題"
   ]
  },
  {
   "cell_type": "code",
   "execution_count": null,
   "metadata": {},
   "outputs": [],
   "source": [
    "N = int(input())\n",
    "A = list(map(int,input().split()))\n",
    "\n",
    "num = 0\n",
    "\n",
    "\n",
    "## 下記のようにすることで，確実にピラミッド性を保証する\n",
    "l[i] = min(A[i],l[i]+1)\n",
    "\n",
    "# for i in range(1,N):\n",
    "#     if A[i] > A[i-1]:\n",
    "#         num += 1\n",
    "#     else:\n",
    "#         num -= 1\n",
    "    \n",
    "\n"
   ]
  }
 ],
 "metadata": {
  "kernelspec": {
   "display_name": "jupyter_10.9",
   "language": "python",
   "name": "python3"
  },
  "language_info": {
   "codemirror_mode": {
    "name": "ipython",
    "version": 3
   },
   "file_extension": ".py",
   "mimetype": "text/x-python",
   "name": "python",
   "nbconvert_exporter": "python",
   "pygments_lexer": "ipython3",
   "version": "3.10.9"
  }
 },
 "nbformat": 4,
 "nbformat_minor": 2
}
