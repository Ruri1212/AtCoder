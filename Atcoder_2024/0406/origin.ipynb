{
 "cells": [
  {
   "cell_type": "markdown",
   "metadata": {},
   "source": [
    "#### 必要になりそうな定数等"
   ]
  },
  {
   "cell_type": "code",
   "execution_count": null,
   "metadata": {},
   "outputs": [],
   "source": [
    "s = \" abcdefghijklmnopqrstuvwxyz \""
   ]
  },
  {
   "cell_type": "markdown",
   "metadata": {},
   "source": [
    "#### A問題"
   ]
  },
  {
   "cell_type": "code",
   "execution_count": null,
   "metadata": {},
   "outputs": [],
   "source": [
    "def I(): return int(input())\n",
    "def L(): return list(map(int,input().split()))\n",
    "def M(): return map(int,input().split())\n",
    "\n",
    "\n"
   ]
  },
  {
   "cell_type": "markdown",
   "metadata": {},
   "source": [
    "#### B問題"
   ]
  },
  {
   "cell_type": "code",
   "execution_count": null,
   "metadata": {},
   "outputs": [],
   "source": [
    "def I(): return int(input())\n",
    "def L(): return list(map(int,input().split()))\n",
    "def M(): return map(int,input().split())\n",
    "\n",
    "\n",
    "\n",
    "n = int(input())    \n",
    "coor = []\n",
    "for _ in range(n):\n",
    "    x,y = M()\n",
    "    coor.append((x,y))\n",
    "\n",
    "for index,i in enumerate(coor):\n",
    "    x,y = i\n",
    "    max_num = 0\n",
    "    max_index = 0\n",
    "    for index2,j in enumerate(coor):\n",
    "        x2,y2 = j\n",
    "        if (x2-x)**2+(y2-y)**2 > max_num:\n",
    "            max_num = max(max_num,(x2-x)**2+(y2-y)**2)\n",
    "            max_index = index2\n",
    "    print(max_index+1)"
   ]
  },
  {
   "cell_type": "markdown",
   "metadata": {},
   "source": [
    "#### C問題"
   ]
  },
  {
   "cell_type": "code",
   "execution_count": null,
   "metadata": {},
   "outputs": [],
   "source": [
    "def I(): return int(input())\n",
    "def L(): return list(map(int,input().split()))\n",
    "def M(): return map(int,input().split())\n",
    "\n",
    "n = I()\n",
    "\n",
    "dic = {}\n",
    "\n",
    "for i in range(n):\n",
    "    a,c = M()\n",
    "    if c not in dic.keys():\n",
    "        dic[c] = a\n",
    "    else:\n",
    "        if dic[c] > a:\n",
    "            dic[c] = a\n",
    "\n",
    "print(max(dic.values()))"
   ]
  },
  {
   "cell_type": "markdown",
   "metadata": {},
   "source": [
    "#### D問題"
   ]
  },
  {
   "cell_type": "code",
   "execution_count": null,
   "metadata": {},
   "outputs": [],
   "source": [
    "def I(): return int(input())\n",
    "def L(): return list(map(int,input().split()))\n",
    "def M(): return map(int,input().split())\n",
    "\n",
    "h,w = M()\n",
    "cell = [[0]*w for _ in range(h)]\n",
    "start_x = 0\n",
    "start_y = 0\n",
    "target_x = 0\n",
    "target_y = 0\n",
    "for i in range(h):\n",
    "    tmp = input()\n",
    "    for j in range(w):\n",
    "        cell[i][j] = tmp[j]\n",
    "        if tmp[j] == \"S\":\n",
    "            start_x = i\n",
    "            start_y = j\n",
    "        if tmp[j] == \"T\":\n",
    "            target_x = i\n",
    "            target_y = j\n",
    "\n",
    "n = I()\n",
    "kusuri= [[0]*w for _ in range(h)]\n",
    "start_enegy = 0\n",
    "for i in range(n):\n",
    "    r,c,e = M()\n",
    "    if r ==1 and c == 1:\n",
    "        start_enegy = e\n",
    "    kusuri[r-1][c-1] = e\n",
    "\n",
    "\n",
    "dp= [[0]*w for _ in range(h)]\n",
    "if start_enegy == 0: \n",
    "    print(\"No\")\n",
    "    exit()\n",
    "else: dp[start_x][start_y] = start_enegy\n",
    "\n",
    "for i in range(h):\n",
    "    for j in range(w):\n",
    "        if i == 0 and j == 0:\n",
    "            continue\n",
    "        if cell[i][j] == \"#\":\n",
    "            dp[i][j] = -int(1e9)\n",
    "            continue\n",
    "\n",
    "        energy = kusuri[i][j]\n",
    "        left = min(0,i-1)\n",
    "        top = min(0,j-1)\n",
    "        right = min(h-1,i+1)\n",
    "        bottom = min(w-1,j+1)\n",
    "        dp[i][j] = max(dp[left][j]-1,dp[i][top]-1,dp[right][j]-1,dp[i][bottom]-1,energy)\n",
    "\n",
    "if dp[target_x][target_y] >= 0:\n",
    "    print(\"Yes\")\n",
    "    print(dp[target_x][target_y])\n",
    "    exit()\n",
    "else: print(\"No\")"
   ]
  },
  {
   "cell_type": "code",
   "execution_count": 3,
   "metadata": {},
   "outputs": [
    {
     "name": "stdout",
     "output_type": "stream",
     "text": [
      "o\n"
     ]
    }
   ],
   "source": [
    "a = \"ox\"\n",
    "print(a[0])"
   ]
  },
  {
   "cell_type": "markdown",
   "metadata": {},
   "source": [
    "#### E問題"
   ]
  },
  {
   "cell_type": "code",
   "execution_count": null,
   "metadata": {},
   "outputs": [],
   "source": []
  }
 ],
 "metadata": {
  "kernelspec": {
   "display_name": "jupyter_10.9",
   "language": "python",
   "name": "python3"
  },
  "language_info": {
   "codemirror_mode": {
    "name": "ipython",
    "version": 3
   },
   "file_extension": ".py",
   "mimetype": "text/x-python",
   "name": "python",
   "nbconvert_exporter": "python",
   "pygments_lexer": "ipython3",
   "version": "3.10.9"
  }
 },
 "nbformat": 4,
 "nbformat_minor": 2
}
